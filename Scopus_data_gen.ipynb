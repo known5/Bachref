{
 "cells": [
  {
   "cell_type": "markdown",
   "metadata": {},
   "source": [
    "<!--\n",
    "  \n",
    "For Scopus this search term was used.\n",
    "\n",
    "TITLE-ABS-KEY ( cloud  AND security  AND data )  AND  DOCTYPE ( ar )  AND  PUBYEAR  >  2009  AND  ( LIMIT-TO ( SRCTYPE ,  \"j\" ) )  AND  ( LIMIT-TO ( PUBSTAGE ,  \"final\" ) )  AND  ( LIMIT-TO ( SUBJAREA ,  \"COMP\" ) )  AND  ( LIMIT-TO ( PUBYEAR ,  2019 )  OR  LIMIT-TO ( PUBYEAR ,  2018 )  OR  LIMIT-TO ( PUBYEAR ,  2017 )  OR  LIMIT-TO ( PUBYEAR ,  2016 )  OR  LIMIT-TO ( PUBYEAR ,  2015 )  OR  LIMIT-TO ( PUBYEAR ,  2014 )  OR  LIMIT-TO ( PUBYEAR ,  2013 )  OR  LIMIT-TO ( PUBYEAR ,  2012 )  OR  LIMIT-TO ( PUBYEAR ,  2011 )  OR  LIMIT-TO ( PUBYEAR ,  2010 ) )  AND  ( LIMIT-TO ( EXACTKEYWORD ,  \"Cloud Computing\" ) ) \n",
    "\n",
    "\n",
    "where the keyword topic is changed for each query\n",
    "\n",
    "\n",
    "https://www-scopus-com.ezproxy2.utwente.nl/results/results.uri?sort=plf-f&src=s&sid=94ba2f3daa661a87ee696984dc1b9a4f&sot=a&sdt=a&cluster=scosrctype%2c%22j%22%2ct%2bscopubstage%2c%22final%22%2ct%2bscosubjabbr%2c%22COMP%22%2ct%2bscopubyr%2c%222019%22%2ct%2c%222018%22%2ct%2c%222017%22%2ct%2c%222016%22%2ct%2c%222015%22%2ct%2c%222014%22%2ct%2c%222013%22%2ct%2c%222012%22%2ct%2c%222011%22%2ct%2c%222010%22%2ct%2bscoexactkeywords%2c%22Cloud+Computing%22%2ct&sl=64&s=TITLE-ABS-KEY%28Cloud+security%29+AND+DOCTYPE%28ar%29+AND+PUBYEAR+%3e+2009&origin=searchadvanced&editSaveSearch=&txGid=b219e11696785521160838f5736ceba9\n",
    "\n",
    "-->\n"
   ]
  },
  {
   "cell_type": "code",
   "execution_count": null,
   "metadata": {},
   "outputs": [],
   "source": [
    "# ['Data', 'network', 'Internet and Service', 'virtualization', 'Multi-tenancy', 'Application', 'Trust', 'Legal']\n",
    "\n",
    "data = [[28, 75, 109, 208, 289, 390, 576, 660, 939, 1149],\n",
    "        [19, 48, 63, 97, 151, 183, 284, 414, 618, 662],\n",
    "        [9, 22, 19, 45, 7, 56, 127, 157, 303, 436],\n",
    "        [6, 20, 24, 32, 29, 35, 44, 106, 121, 101],\n",
    "        [],[],[],[]]"
   ]
  }
 ],
 "metadata": {
  "kernelspec": {
   "display_name": "Python 3",
   "language": "python",
   "name": "python3"
  },
  "language_info": {
   "codemirror_mode": {
    "name": "ipython",
    "version": 3
   },
   "file_extension": ".py",
   "mimetype": "text/x-python",
   "name": "python",
   "nbconvert_exporter": "python",
   "pygments_lexer": "ipython3",
   "version": "3.7.4"
  }
 },
 "nbformat": 4,
 "nbformat_minor": 2
}
